{
  "nbformat": 4,
  "nbformat_minor": 0,
  "metadata": {
    "colab": {
      "name": "desafio_final.ipynb",
      "provenance": [],
      "toc_visible": true,
      "authorship_tag": "ABX9TyNJaDdWTJ7jQWPo2+0+Pab0",
      "include_colab_link": true
    },
    "kernelspec": {
      "name": "python3",
      "display_name": "Python 3"
    }
  },
  "cells": [
    {
      "cell_type": "markdown",
      "metadata": {
        "id": "view-in-github",
        "colab_type": "text"
      },
      "source": [
        "<a href=\"https://colab.research.google.com/github/ravellys/Bootcamp-IGTI/blob/main/desafio_final.ipynb\" target=\"_parent\"><img src=\"https://colab.research.google.com/assets/colab-badge.svg\" alt=\"Open In Colab\"/></a>"
      ]
    },
    {
      "cell_type": "markdown",
      "metadata": {
        "id": "KS6MaU4aVDN5"
      },
      "source": [
        "# Desafio - Módulo 5 - IGTI\n",
        "---\n",
        "## Ciência de Dados com Python\n",
        "## Bootcamp Desenvolvedor Python\n",
        "## Lucas Ravellys"
      ]
    },
    {
      "cell_type": "markdown",
      "metadata": {
        "id": "KlDEKeV8VQq9"
      },
      "source": [
        "Observaçoes:\n",
        "O dataset utilizado possui as seguintes colunas:\n",
        "0. Número de vezes em que ficou grávida.\n",
        "1. Concentração de glicose.\n",
        "2. Pressão diastólica (mm Hg).\n",
        "3. Espessura da dobra cutânea do tríceps (mm).\n",
        "4. Insulina (mu U/ml).\n",
        "5. Índice de massa corporal (peso em kg/(altura em m)^2).\n",
        "6. Histórico familiar de diabetes.\n",
        "7. Idade (anos).\n",
        "8. Classificação (0 ou 1 - 0 não diabético / 1 diabético )."
      ]
    },
    {
      "cell_type": "code",
      "metadata": {
        "id": "glPKp2ZfYe6g",
        "outputId": "e5289f6a-d891-455e-91d1-7c02becb2ade",
        "colab": {
          "base_uri": "https://localhost:8080/"
        }
      },
      "source": [
        "import joblib\n",
        "import pandas as pd\n",
        "import numpy as np\n",
        "\n",
        "from sklearn.neighbors import KNeighborsClassifier\n",
        "from sklearn.tree import DecisionTreeClassifier\n",
        "from sklearn.neural_network import MLPClassifier\n",
        "from sklearn.metrics import accuracy_score\n",
        "\n",
        "def pre_tratamento_dados(df, feature_saida):\n",
        "  # Entrada / Saída\n",
        "  x = df.drop(columns=['CLASSIFICACAO']) #entrada\n",
        "  y = df['CLASSIFICACAO'] # saida\n",
        "\n",
        "  # Normalização dos dados\n",
        "  from sklearn.preprocessing  import MinMaxScaler\n",
        "  normaliza = MinMaxScaler() #objeto para a normalização\n",
        "  entradas_normalizadas=normaliza.fit_transform(x)\n",
        "  return entradas_normalizadas, y, normaliza\n",
        "\n",
        "\n",
        "def modelo_ml(model, x, y):\n",
        "  # treino / teste\n",
        "  from sklearn.model_selection import train_test_split\n",
        "  X_train, X_test, y_train, y_test = train_test_split(x, y, test_size=0.30,random_state=42)\n",
        "\n",
        "  clf = model\n",
        "  clf.fit(X_train, y_train)\n",
        "  y_pred = clf.predict(X_test)\n",
        "  from sklearn.metrics import accuracy_score\n",
        "  acc= accuracy_score(y_test, y_pred)\n",
        "\n",
        "  return clf, acc\n",
        "\n",
        "def selecao_melhor_modelo(modelos, df, feature_saida):\n",
        "  x, y, normal = pre_tratamento_dados(df, feature_saida)\n",
        "\n",
        "  lista_modelos = list(modelos.keys())\n",
        "  melhor = modelo_ml(modelos[lista_modelos[0]], x=x, y=y)\n",
        "\n",
        "  for modelo_name in lista_modelos[1:]:\n",
        "    modelo = modelo_ml(modelos[modelo_name], x=x, y=y)\n",
        "    if modelo[1] > melhor[1]:\n",
        "      melhor = modelo\n",
        "\n",
        "  return melhor, normal     \n",
        "\n",
        "\n",
        "modelos = dict(\n",
        "    KNeighborsClassifier = KNeighborsClassifier(n_neighbors=5),\n",
        "    MLPClassifier = MLPClassifier(solver='lbfgs', alpha=1e-5, hidden_layer_sizes=(5, 10), random_state=1),\n",
        "    DecisionTreeClassifier = DecisionTreeClassifier(random_state=1)\n",
        ")\n",
        "\n",
        "if __name__ == '__main__':\n",
        "\n",
        "  df = pd.read_csv('https://raw.githubusercontent.com/ravellys/Diabetes_predict/main/dataset/pima-indians-diabetes.csv', header=None)\n",
        "  df.columns = ['NUM_GRAV', 'CONCENTRACAO_GLICOSE', 'PRESSSAO_DIASTOLICA', 'ESPESSURA_TRICEPS', 'INSULINA', 'IMC', 'HISTORICO_FAMILIAR', 'IDADE', 'CLASSIFICACAO']\n",
        "\n",
        "  melhor_modelo = selecao_melhor_modelo(modelos, df=df, feature_saida='CLASSIFICACAO')\n",
        "  nome_arquivo = 'melhor_modelo_ml.sav'\n",
        "  joblib.dump(melhor_modelo[0][0], nome_arquivo)\n",
        "  nome_arquivo = 'data_normaliza.sav'\n",
        "  joblib.dump(melhor_modelo[1], nome_arquivo)"
      ],
      "execution_count": 19,
      "outputs": [
        {
          "output_type": "stream",
          "text": [
            "/usr/local/lib/python3.6/dist-packages/sklearn/neural_network/_multilayer_perceptron.py:470: ConvergenceWarning: lbfgs failed to converge (status=1):\n",
            "STOP: TOTAL NO. of ITERATIONS REACHED LIMIT.\n",
            "\n",
            "Increase the number of iterations (max_iter) or scale the data as shown in:\n",
            "    https://scikit-learn.org/stable/modules/preprocessing.html\n",
            "  self.n_iter_ = _check_optimize_result(\"lbfgs\", opt_res, self.max_iter)\n"
          ],
          "name": "stderr"
        }
      ]
    },
    {
      "cell_type": "code",
      "metadata": {
        "id": "P8bYMZTYoqIi",
        "outputId": "ce640724-76d5-43f5-f699-beb448fec97b",
        "colab": {
          "base_uri": "https://localhost:8080/"
        }
      },
      "source": [
        "# carregando modelo\n",
        "modelo_salvo = joblib.load('/content/melhor_modelo_ml.sav')\n",
        "normaliza = joblib.load('/content/data_normaliza.sav')\n",
        "\n",
        "# usando o modelo\n",
        "df = pd.read_csv('https://raw.githubusercontent.com/ravellys/Diabetes_predict/main/dataset/pima-indians-diabetes.csv', header=None)\n",
        "df.columns = ['NUM_GRAV', 'CONCENTRACAO_GLICOSE', 'PRESSSAO_DIASTOLICA', 'ESPESSURA_TRICEPS', 'INSULINA', 'IMC', 'HISTORICO_FAMILIAR', 'IDADE', 'CLASSIFICACAO']\n",
        "x_ = df.drop(columns=['CLASSIFICACAO']) #entrada\n",
        "\n",
        "x_norm = normaliza.transform(x_)\n",
        "\n",
        "print(\n",
        "f\"\"\"\n",
        "entrada: {x_norm[0]}\n",
        "saída: {modelo_salvo.predict([x_norm[0]])}\n",
        "\"\"\")\n"
      ],
      "execution_count": 38,
      "outputs": [
        {
          "output_type": "stream",
          "text": [
            "\n",
            "entrada: [0.35294118 0.74371859 0.59016393 0.35353535 0.         0.50074516\n",
            " 0.23441503 0.48333333]\n",
            "saída: [1]\n",
            "\n"
          ],
          "name": "stdout"
        }
      ]
    }
  ]
}