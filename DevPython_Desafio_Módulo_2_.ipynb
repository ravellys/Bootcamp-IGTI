{
  "nbformat": 4,
  "nbformat_minor": 0,
  "metadata": {
    "colab": {
      "name": "DevPython_Desafio_Módulo_2_.ipynb",
      "provenance": [],
      "authorship_tag": "ABX9TyNdqMfqVdCZ+TNyTgPhc+07",
      "include_colab_link": true
    },
    "kernelspec": {
      "name": "python3",
      "display_name": "Python 3"
    }
  },
  "cells": [
    {
      "cell_type": "markdown",
      "metadata": {
        "id": "view-in-github",
        "colab_type": "text"
      },
      "source": [
        "<a href=\"https://colab.research.google.com/github/ravellys/Bootcamp-IGTI/blob/main/DevPython_Desafio_M%C3%B3dulo_2_.ipynb\" target=\"_parent\"><img src=\"https://colab.research.google.com/assets/colab-badge.svg\" alt=\"Open In Colab\"/></a>"
      ]
    },
    {
      "cell_type": "markdown",
      "metadata": {
        "id": "ZAvDm95OcfaX"
      },
      "source": [
        "# Desafio - Módulo 2 - IGTI\n",
        "---\n",
        "## Análise de Dados com Python\n",
        "## Bootcamp Desenvolvedor Python\n",
        "## Lucas Ravellys"
      ]
    },
    {
      "cell_type": "markdown",
      "metadata": {
        "id": "QsGYPRaEV6F1"
      },
      "source": [
        "## **Justificativa**\n",
        "\n",
        "---\n",
        "<img src=\"https://image.freepik.com/vetores-gratis/kid-andar-de-bicicleta_23-2147513580.jpg?1\" width=\"250\" align=\"left\"/> \n",
        "\n",
        "<div margin=12px padding=12px border=12px text-align='center'>\n",
        "<p float=\"left\" text-align='center'>\n",
        "O uso de bicicletas como meio de transporte ganhou muita força nos últimos anos,\n",
        "seja por questões ambientais, de saúde ou até mesmo de infraestrutura de trânsito. \n",
        "</p>\n",
        "<p float=\"left\" text-align='center'>\n",
        "Para incentivar seu uso, cidades em todo o mundo têm implementado programas de\n",
        "compartilhamento de bicicleta. Nesses sistemas, elas são retiradas e devolvidas em quiosques automatizados que ficam espalhados por diversos pontos da cidade.\n",
        "</p>\n",
        "<p float=\"left\" text-align='center'>\n",
        "As plataformas de compartilhamento de bicicletas costumam coletar diversos tipos\n",
        "de dados, como a duração da viagem, as localizações iniciais e finais dos percursos, entre outros. Esses dados, em conjunto com informações sobre o clima, o trânsito e o relevo, por exemplo, possibilitam uma análise mais robusta do compartilhamento de bicicletas.\n",
        "</p>\n",
        "</div>\n"
      ]
    },
    {
      "cell_type": "markdown",
      "metadata": {
        "id": "4Xz4gzzMcljY"
      },
      "source": [
        "## **Objetivo** \n",
        "Analisar os dados de compartilhamento de bicicletas em\n",
        "uma cidade, coletados pela Universidade do Porto"
      ]
    },
    {
      "cell_type": "markdown",
      "metadata": {
        "id": "N-bo54yZcX49"
      },
      "source": [
        "## Descritivo dos dados coletados:\n",
        "- rec_id: índice do registro de locação;\n",
        "- datetime : data;\n",
        "- season : estação do ano (1: inverno, 2: primevera, 3: verão, 4: outono). Relativo ao\n",
        "hemisfério norte;\n",
        "- year : ano (0: 2011, 1:2012);\n",
        "- month : mês (1 a 12);\n",
        "- hour : hora do dia (0 a 23);\n",
        "- is_holiday : booleano indicando feriado;\n",
        "- weekday : dia da semana (0: domingo, 1: segunda-feira, …, 6: sábado);\n",
        "- is_workingday : booleano indicando dia útil;\n",
        "- weather_condition: (1: limpo, 2: nublado, 3: chuva leve, 4: chuva forte);\n",
        "- temp : Temperatura escalada entre 0 e 1. Valor original em graus Celsius: -8 a 39;\n",
        "- atemp: Sensação térmica escalada entre 0 e 1. Valor original em graus Celsius: -16 a 50;\n",
        "- humidity: Humidade relativa (0 a 1);\n",
        "- windspeed: Velocidade do vento escalada entre 0 e 1 (máximo original: 67);\n",
        "- casual: número de locações para usuários casuais;\n",
        "- registered: número de locações para usuários registrados;\n",
        "- total_count: contador total de aluguéis (casual+registered)"
      ]
    },
    {
      "cell_type": "code",
      "metadata": {
        "id": "rnFUB5dNTw6P"
      },
      "source": [
        "import numpy as np\n",
        "import pandas as pd"
      ],
      "execution_count": null,
      "outputs": []
    },
    {
      "cell_type": "code",
      "metadata": {
        "id": "PpcEmO79T6e0"
      },
      "source": [
        "df = pd.read_csv(\"https://pycourse.s3.amazonaws.com/bike-sharing.csv\")"
      ],
      "execution_count": null,
      "outputs": []
    },
    {
      "cell_type": "code",
      "metadata": {
        "id": "cHW8PbusT7Fi",
        "outputId": "fae16ec9-112f-4930-d58a-31a6951ee578",
        "colab": {
          "base_uri": "https://localhost:8080/",
          "height": 309
        }
      },
      "source": [
        "df.head()"
      ],
      "execution_count": null,
      "outputs": [
        {
          "output_type": "execute_result",
          "data": {
            "text/html": [
              "<div>\n",
              "<style scoped>\n",
              "    .dataframe tbody tr th:only-of-type {\n",
              "        vertical-align: middle;\n",
              "    }\n",
              "\n",
              "    .dataframe tbody tr th {\n",
              "        vertical-align: top;\n",
              "    }\n",
              "\n",
              "    .dataframe thead th {\n",
              "        text-align: right;\n",
              "    }\n",
              "</style>\n",
              "<table border=\"1\" class=\"dataframe\">\n",
              "  <thead>\n",
              "    <tr style=\"text-align: right;\">\n",
              "      <th></th>\n",
              "      <th>datetime</th>\n",
              "      <th>rec_id</th>\n",
              "      <th>season</th>\n",
              "      <th>year</th>\n",
              "      <th>month</th>\n",
              "      <th>hour</th>\n",
              "      <th>is_holiday</th>\n",
              "      <th>weekday</th>\n",
              "      <th>is_workingday</th>\n",
              "      <th>weather_condition</th>\n",
              "      <th>temp</th>\n",
              "      <th>atemp</th>\n",
              "      <th>humidity</th>\n",
              "      <th>windspeed</th>\n",
              "      <th>casual</th>\n",
              "      <th>registered</th>\n",
              "      <th>total_count</th>\n",
              "    </tr>\n",
              "  </thead>\n",
              "  <tbody>\n",
              "    <tr>\n",
              "      <th>0</th>\n",
              "      <td>2011-01-01</td>\n",
              "      <td>1</td>\n",
              "      <td>1</td>\n",
              "      <td>0</td>\n",
              "      <td>1</td>\n",
              "      <td>0</td>\n",
              "      <td>0</td>\n",
              "      <td>6</td>\n",
              "      <td>0</td>\n",
              "      <td>1</td>\n",
              "      <td>0.24</td>\n",
              "      <td>0.2879</td>\n",
              "      <td>0.81</td>\n",
              "      <td>0.0</td>\n",
              "      <td>3</td>\n",
              "      <td>13</td>\n",
              "      <td>16</td>\n",
              "    </tr>\n",
              "    <tr>\n",
              "      <th>1</th>\n",
              "      <td>2011-01-01</td>\n",
              "      <td>2</td>\n",
              "      <td>1</td>\n",
              "      <td>0</td>\n",
              "      <td>1</td>\n",
              "      <td>1</td>\n",
              "      <td>0</td>\n",
              "      <td>6</td>\n",
              "      <td>0</td>\n",
              "      <td>1</td>\n",
              "      <td>0.22</td>\n",
              "      <td>0.2727</td>\n",
              "      <td>0.80</td>\n",
              "      <td>0.0</td>\n",
              "      <td>8</td>\n",
              "      <td>32</td>\n",
              "      <td>40</td>\n",
              "    </tr>\n",
              "    <tr>\n",
              "      <th>2</th>\n",
              "      <td>2011-01-01</td>\n",
              "      <td>3</td>\n",
              "      <td>1</td>\n",
              "      <td>0</td>\n",
              "      <td>1</td>\n",
              "      <td>2</td>\n",
              "      <td>0</td>\n",
              "      <td>6</td>\n",
              "      <td>0</td>\n",
              "      <td>1</td>\n",
              "      <td>0.22</td>\n",
              "      <td>0.2727</td>\n",
              "      <td>0.80</td>\n",
              "      <td>0.0</td>\n",
              "      <td>5</td>\n",
              "      <td>27</td>\n",
              "      <td>32</td>\n",
              "    </tr>\n",
              "    <tr>\n",
              "      <th>3</th>\n",
              "      <td>2011-01-01</td>\n",
              "      <td>4</td>\n",
              "      <td>1</td>\n",
              "      <td>0</td>\n",
              "      <td>1</td>\n",
              "      <td>3</td>\n",
              "      <td>0</td>\n",
              "      <td>6</td>\n",
              "      <td>0</td>\n",
              "      <td>1</td>\n",
              "      <td>0.24</td>\n",
              "      <td>0.2879</td>\n",
              "      <td>0.75</td>\n",
              "      <td>0.0</td>\n",
              "      <td>3</td>\n",
              "      <td>10</td>\n",
              "      <td>13</td>\n",
              "    </tr>\n",
              "    <tr>\n",
              "      <th>4</th>\n",
              "      <td>2011-01-01</td>\n",
              "      <td>5</td>\n",
              "      <td>1</td>\n",
              "      <td>0</td>\n",
              "      <td>1</td>\n",
              "      <td>4</td>\n",
              "      <td>0</td>\n",
              "      <td>6</td>\n",
              "      <td>0</td>\n",
              "      <td>1</td>\n",
              "      <td>0.24</td>\n",
              "      <td>0.2879</td>\n",
              "      <td>0.75</td>\n",
              "      <td>0.0</td>\n",
              "      <td>0</td>\n",
              "      <td>1</td>\n",
              "      <td>1</td>\n",
              "    </tr>\n",
              "  </tbody>\n",
              "</table>\n",
              "</div>"
            ],
            "text/plain": [
              "     datetime  rec_id  season  year  ...  windspeed  casual  registered  total_count\n",
              "0  2011-01-01       1       1     0  ...        0.0       3          13           16\n",
              "1  2011-01-01       2       1     0  ...        0.0       8          32           40\n",
              "2  2011-01-01       3       1     0  ...        0.0       5          27           32\n",
              "3  2011-01-01       4       1     0  ...        0.0       3          10           13\n",
              "4  2011-01-01       5       1     0  ...        0.0       0           1            1\n",
              "\n",
              "[5 rows x 17 columns]"
            ]
          },
          "metadata": {
            "tags": []
          },
          "execution_count": 3
        }
      ]
    },
    {
      "cell_type": "markdown",
      "metadata": {
        "id": "LzXTWv3sV96_"
      },
      "source": [
        "Qual o tamanho desse dataset?"
      ]
    },
    {
      "cell_type": "code",
      "metadata": {
        "id": "vmTHoGuIV3gu",
        "outputId": "3b0ee636-c95e-4084-9eea-2bc21d8a12ca",
        "colab": {
          "base_uri": "https://localhost:8080/",
          "height": 425
        }
      },
      "source": [
        "df['datetime'] = pd.to_datetime(df['datetime'])\n",
        "df['year'] = pd.DatetimeIndex(df['datetime']).year\n",
        "df.info()"
      ],
      "execution_count": null,
      "outputs": [
        {
          "output_type": "stream",
          "text": [
            "<class 'pandas.core.frame.DataFrame'>\n",
            "RangeIndex: 17379 entries, 0 to 17378\n",
            "Data columns (total 17 columns):\n",
            " #   Column             Non-Null Count  Dtype         \n",
            "---  ------             --------------  -----         \n",
            " 0   datetime           17379 non-null  datetime64[ns]\n",
            " 1   rec_id             17379 non-null  int64         \n",
            " 2   season             17379 non-null  int64         \n",
            " 3   year               17379 non-null  int64         \n",
            " 4   month              17379 non-null  int64         \n",
            " 5   hour               17379 non-null  int64         \n",
            " 6   is_holiday         17379 non-null  int64         \n",
            " 7   weekday            17379 non-null  int64         \n",
            " 8   is_workingday      17379 non-null  int64         \n",
            " 9   weather_condition  17379 non-null  int64         \n",
            " 10  temp               17379 non-null  float64       \n",
            " 11  atemp              17379 non-null  float64       \n",
            " 12  humidity           17379 non-null  float64       \n",
            " 13  windspeed          17379 non-null  float64       \n",
            " 14  casual             17379 non-null  int64         \n",
            " 15  registered         17379 non-null  int64         \n",
            " 16  total_count        17379 non-null  int64         \n",
            "dtypes: datetime64[ns](1), float64(4), int64(12)\n",
            "memory usage: 2.3 MB\n"
          ],
          "name": "stdout"
        }
      ]
    },
    {
      "cell_type": "markdown",
      "metadata": {
        "id": "Vgpuuzu4WEu1"
      },
      "source": [
        "Qual a média da coluna windspeed?"
      ]
    },
    {
      "cell_type": "code",
      "metadata": {
        "id": "Vd3nCLtVWBtm",
        "outputId": "71e05a59-1aa7-4997-91e6-3e095424d012",
        "colab": {
          "base_uri": "https://localhost:8080/",
          "height": 34
        }
      },
      "source": [
        "df['windspeed'].mean()"
      ],
      "execution_count": null,
      "outputs": [
        {
          "output_type": "execute_result",
          "data": {
            "text/plain": [
              "0.1900976063064631"
            ]
          },
          "metadata": {
            "tags": []
          },
          "execution_count": 6
        }
      ]
    },
    {
      "cell_type": "markdown",
      "metadata": {
        "id": "kto_7OTGWO_z"
      },
      "source": [
        "Qual a média da coluna temp?"
      ]
    },
    {
      "cell_type": "code",
      "metadata": {
        "id": "-q0V97XiWNVP",
        "outputId": "a1cf8aa6-22cc-4090-a3bb-95d1c6ab8776",
        "colab": {
          "base_uri": "https://localhost:8080/",
          "height": 34
        }
      },
      "source": [
        "df['temp'].mean()"
      ],
      "execution_count": null,
      "outputs": [
        {
          "output_type": "execute_result",
          "data": {
            "text/plain": [
              "0.4969871684216586"
            ]
          },
          "metadata": {
            "tags": []
          },
          "execution_count": 7
        }
      ]
    },
    {
      "cell_type": "markdown",
      "metadata": {
        "id": "sG4i09FbWcSa"
      },
      "source": [
        "Quantos registros existem para o ano de 2011?"
      ]
    },
    {
      "cell_type": "code",
      "metadata": {
        "id": "bHLGXX0jWbai",
        "outputId": "cf6e3281-db17-43d0-e5ac-54bffe306f8b",
        "colab": {
          "base_uri": "https://localhost:8080/",
          "height": 34
        }
      },
      "source": [
        "(df['year'] == 2011).sum()"
      ],
      "execution_count": null,
      "outputs": [
        {
          "output_type": "execute_result",
          "data": {
            "text/plain": [
              "8645"
            ]
          },
          "metadata": {
            "tags": []
          },
          "execution_count": 18
        }
      ]
    },
    {
      "cell_type": "markdown",
      "metadata": {
        "id": "2DRE_RxHXj-n"
      },
      "source": [
        "Quantos registros existem para o ano de 2012?"
      ]
    },
    {
      "cell_type": "code",
      "metadata": {
        "id": "6BdZjqQbW9_e",
        "outputId": "4fc2238e-eee9-44eb-e25a-20f5b9d40bf8",
        "colab": {
          "base_uri": "https://localhost:8080/",
          "height": 34
        }
      },
      "source": [
        "(df['year'] == 2012).sum()"
      ],
      "execution_count": null,
      "outputs": [
        {
          "output_type": "execute_result",
          "data": {
            "text/plain": [
              "8734"
            ]
          },
          "metadata": {
            "tags": []
          },
          "execution_count": 19
        }
      ]
    },
    {
      "cell_type": "markdown",
      "metadata": {
        "id": "ujyvqJmLXo6C"
      },
      "source": [
        "Quantas locações de bicicletas foram efetuadas em 2011?"
      ]
    },
    {
      "cell_type": "code",
      "metadata": {
        "id": "sXHHh7scXoET",
        "outputId": "9dc6836d-c576-4d49-89d6-2439e9f1c54a",
        "colab": {
          "base_uri": "https://localhost:8080/",
          "height": 34
        }
      },
      "source": [
        "df[(df['year'] == 2011)].total_count.sum()"
      ],
      "execution_count": null,
      "outputs": [
        {
          "output_type": "execute_result",
          "data": {
            "text/plain": [
              "1243103"
            ]
          },
          "metadata": {
            "tags": []
          },
          "execution_count": 24
        }
      ]
    },
    {
      "cell_type": "markdown",
      "metadata": {
        "id": "ofgMEQBSY0Fq"
      },
      "source": [
        "Quantas locações de bicicletas foram efetuadas em 2012?\n"
      ]
    },
    {
      "cell_type": "code",
      "metadata": {
        "id": "VmQLSLqSYPE5",
        "outputId": "bda81031-a987-4bf8-b120-011e72034b11",
        "colab": {
          "base_uri": "https://localhost:8080/",
          "height": 34
        }
      },
      "source": [
        "df[(df['year'] == 2012)].total_count.sum()"
      ],
      "execution_count": null,
      "outputs": [
        {
          "output_type": "execute_result",
          "data": {
            "text/plain": [
              "2049576"
            ]
          },
          "metadata": {
            "tags": []
          },
          "execution_count": 25
        }
      ]
    },
    {
      "cell_type": "markdown",
      "metadata": {
        "id": "hygzeDXeY5EI"
      },
      "source": [
        "Qual estação do ano contém a maior média de locações de bicicletas?\n",
        "\n",
        "Qual estação do ano contém a menor média de locações de bicicletas?"
      ]
    },
    {
      "cell_type": "code",
      "metadata": {
        "id": "HeQb0jAXY4PI",
        "outputId": "1f5eda7b-d094-44c2-98dd-81630ebd23f1",
        "colab": {
          "base_uri": "https://localhost:8080/",
          "height": 293
        }
      },
      "source": [
        "df.groupby(by=['season']).mean()['total_count'].plot(kind='bar', grid=True)"
      ],
      "execution_count": null,
      "outputs": [
        {
          "output_type": "execute_result",
          "data": {
            "text/plain": [
              "<matplotlib.axes._subplots.AxesSubplot at 0x7fd11517f550>"
            ]
          },
          "metadata": {
            "tags": []
          },
          "execution_count": 40
        },
        {
          "output_type": "display_data",
          "data": {
            "image/png": "[encoded data removed]",
            "text/plain": [
              "<Figure size 432x288 with 1 Axes>"
            ]
          },
          "metadata": {
            "tags": [],
            "needs_background": "light"
          }
        }
      ]
    },
    {
      "cell_type": "markdown",
      "metadata": {
        "id": "8UWK6Y6_aKCt"
      },
      "source": [
        "Qual horário do dia contém a maior média de locações de bicicletas?\n",
        "\n",
        "Qual horário do dia contém a menor média de locações de bicicletas?"
      ]
    },
    {
      "cell_type": "code",
      "metadata": {
        "id": "4dePn9NXZwda",
        "outputId": "e7ba3a00-0e45-47f1-9062-753e779acad7",
        "colab": {
          "base_uri": "https://localhost:8080/",
          "height": 299
        }
      },
      "source": [
        "df.groupby(by=['hour']).mean()['total_count'].plot(kind='bar', grid=True)"
      ],
      "execution_count": null,
      "outputs": [
        {
          "output_type": "execute_result",
          "data": {
            "text/plain": [
              "<matplotlib.axes._subplots.AxesSubplot at 0x7fd1151248d0>"
            ]
          },
          "metadata": {
            "tags": []
          },
          "execution_count": 39
        },
        {
          "output_type": "display_data",
          "data": {
            "image/png": "[encoded data removed]",
            "text/plain": [
              "<Figure size 432x288 with 1 Axes>"
            ]
          },
          "metadata": {
            "tags": [],
            "needs_background": "light"
          }
        }
      ]
    },
    {
      "cell_type": "markdown",
      "metadata": {
        "id": "qW4T5s5XbRwQ"
      },
      "source": [
        "Que dia da semana contém a maior média de locações de bicicletas?\n",
        "\n",
        "Que dia da semana contém a menor média de locações de bicicletas?"
      ]
    },
    {
      "cell_type": "code",
      "metadata": {
        "id": "dXAe-w4haxsT",
        "outputId": "6bce68ed-e379-4b58-f1d9-103c1fd2d38a",
        "colab": {
          "base_uri": "https://localhost:8080/",
          "height": 293
        }
      },
      "source": [
        "df.groupby(by=['weekday']).mean()['total_count'].plot(kind='bar', grid=True)"
      ],
      "execution_count": null,
      "outputs": [
        {
          "output_type": "execute_result",
          "data": {
            "text/plain": [
              "<matplotlib.axes._subplots.AxesSubplot at 0x7fd114b75550>"
            ]
          },
          "metadata": {
            "tags": []
          },
          "execution_count": 43
        },
        {
          "output_type": "display_data",
          "data": {
            "image/png": "[encoded data removed]",
            "text/plain": [
              "<Figure size 432x288 with 1 Axes>"
            ]
          },
          "metadata": {
            "tags": [],
            "needs_background": "light"
          }
        }
      ]
    },
    {
      "cell_type": "markdown",
      "metadata": {
        "id": "1TCYXd-cbmL_"
      },
      "source": [
        "Às quartas-feiras (weekday = 3), qual o horário do dia contém a maior média de\n",
        "locações de bicicletas?"
      ]
    },
    {
      "cell_type": "code",
      "metadata": {
        "id": "qyZXa59cbYgz",
        "outputId": "d0b2d358-33c9-42dd-ac22-917f5bf9a6ba",
        "colab": {
          "base_uri": "https://localhost:8080/",
          "height": 299
        }
      },
      "source": [
        "df[(df['weekday'] == 3)].groupby(by=['hour']).mean()['total_count'].plot(kind='bar', grid=True)"
      ],
      "execution_count": null,
      "outputs": [
        {
          "output_type": "execute_result",
          "data": {
            "text/plain": [
              "<matplotlib.axes._subplots.AxesSubplot at 0x7fd1149c76d8>"
            ]
          },
          "metadata": {
            "tags": []
          },
          "execution_count": 46
        },
        {
          "output_type": "display_data",
          "data": {
            "image/png": "[encoded data removed]",
            "text/plain": [
              "<Figure size 432x288 with 1 Axes>"
            ]
          },
          "metadata": {
            "tags": [],
            "needs_background": "light"
          }
        }
      ]
    },
    {
      "cell_type": "markdown",
      "metadata": {
        "id": "rJtfxi8dbtP8"
      },
      "source": [
        "\n",
        "Aos sábados (weekday = 6), qual o horário do dia contém a maior média de\n",
        "locações de bicicletas?"
      ]
    },
    {
      "cell_type": "code",
      "metadata": {
        "id": "DiXtlAufbtlu",
        "outputId": "e90d6ea1-41af-4908-b763-49ccaa072665",
        "colab": {
          "base_uri": "https://localhost:8080/",
          "height": 301
        }
      },
      "source": [
        "df[(df['weekday'] == 6)].groupby(by=['hour']).mean()['total_count'].plot(kind='bar', grid=True)"
      ],
      "execution_count": null,
      "outputs": [
        {
          "output_type": "execute_result",
          "data": {
            "text/plain": [
              "<matplotlib.axes._subplots.AxesSubplot at 0x7fd1149c74e0>"
            ]
          },
          "metadata": {
            "tags": []
          },
          "execution_count": 47
        },
        {
          "output_type": "display_data",
          "data": {
            "image/png": "[encoded data removed]",
            "text/plain": [
              "<Figure size 432x288 with 1 Axes>"
            ]
          },
          "metadata": {
            "tags": [],
            "needs_background": "light"
          }
        }
      ]
    },
    {
      "cell_type": "code",
      "metadata": {
        "id": "6pXQLsOXcHXM"
      },
      "source": [
        ""
      ],
      "execution_count": null,
      "outputs": []
    }
  ]
}